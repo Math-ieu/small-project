{
 "cells": [
  {
   "cell_type": "markdown",
   "metadata": {},
   "source": [
    "<div>\n",
    "<h2>Voici une explication de chaque colonne :</h2>\n",
    "<ul>\n",
    "<li>a : Identifiant unique de la personne.</li>\n",
    "<li>b : Description détaillée de la personne.</li>\n",
    "<li>c : Prénom de la personne.</li>\n",
    "<li>d : Nom de famille de la personne.</li>\n",
    "<li>e : Revenu de la personne.</li>\n",
    "<li>f : Montant des dettes de la personne.</li>\n",
    "<li>g : Total net de richesse de la personne (revenu - dettes).</li>\n",
    "</ul>\n",
    "\n",
    "</div>"
   ]
  },
  {
   "cell_type": "code",
   "execution_count": null,
   "metadata": {},
   "outputs": [
    {
     "name": "stdout",
     "output_type": "stream",
     "text": [
      "Your mission shall you accept it is to\n",
      "* Explain every column.\n",
      "* Find the 3 richest person.\n",
      "\n",
      "This is a simple test, it should not take you more 30minutes to code.\n"
     ]
    }
   ],
   "source": [
    "import requests\n",
    "import zipfile\n",
    "\n",
    "# Télécharger le fichier data.zip\n",
    "url = \"http://rhobs-public.s3-website.eu-west-3.amazonaws.com/data.zip\"\n",
    "response = requests.get(url)\n",
    "\n",
    "# Enregistrer le contenu téléchargé dans un fichier local\n",
    "with open(\"data.zip\", \"wb\") as f:\n",
    "    f.write(response.content)\n",
    "\n",
    "# Extraire le contenu de l'archive zip\n",
    "with zipfile.ZipFile(\"data.zip\", \"r\") as zip_ref:\n",
    "    zip_ref.extractall(\"data_folder\")\n",
    "file_path = \"data_folder/-\"\n",
    "# Parcourir  le fichier \"-\"\n",
    "\n",
    "# Lire les 100 premières lignes du fichier \"-\" pour voir à peu près son contenu\n",
    "with open(file_path, \"r\") as f:\n",
    "    for i in range(100):\n",
    "        line = f.readline()\n",
    "        print(line.strip())  # Afficher la ligne sans les caractères de nouvelle ligne\n"
   ]
  },
  {
   "cell_type": "code",
   "execution_count": null,
   "metadata": {},
   "outputs": [],
   "source": [
    "# Parcourir  le fichier \"-\"\n",
    "file_path = \"data_folder/-\"\n",
    "# Ouvrir le fichier en mode lecture\n",
    "with open(file_path, \"r\", encoding=\"utf-8\") as file:\n",
    "    # Ignorer les 8 premières lignes\n",
    "    for _ in range(9):\n",
    "        next(file)\n",
    "    \n",
    "    # Initialiser une liste pour stocker les 3 premières personnes les plus riches\n",
    "    top_rich = []\n",
    "    \n",
    "    # Lire les lignes restantes et mettre à jour la liste des 3 premières personnes les plus riches\n",
    "    for line in file:\n",
    "        # Séparer les données de chaque ligne en fonction de la virgule comme séparateur\n",
    "        row = line.strip().split(\",\")\n",
    "        # Convertir les valeurs numériques en entiers\n",
    "        row[4] = eval(row[4])\n",
    "        row[5] = eval(row[5])\n",
    "        row[6] = eval(row[6]) \n",
    "        \n",
    "        # Si la liste des 3 premières personnes les plus riches n'est pas encore pleine,\n",
    "        # ajouter la personne actuelle\n",
    "        if len(top_rich) < 3:\n",
    "            top_rich.append(row)\n",
    "            # Trier la liste des 3 premières personnes les plus riches en fonction du total net de richesse\n",
    "            top_rich.sort(key=lambda x: x[6], reverse=True)\n",
    "        else:\n",
    "            # Si la personne actuelle est plus riche que la moins riche des 3 premières personnes,\n",
    "            # remplacer cette personne par la personne actuelle\n",
    "            if row[6] > top_rich[-1][6]:\n",
    "                top_rich[-1] = row\n",
    "                # Trier à nouveau la liste des 3 premières personnes les plus riches\n",
    "                top_rich.sort(key=lambda x: x[6], reverse=True)\n",
    "\n",
    "# Afficher les 3 premières personnes les plus riches\n",
    "print(\"Les 3 personnes les plus riches :\")\n",
    "for person in top_rich:\n",
    "    print(\"Identifiant:\", person[0], \"- Nom:\", person[2], \"- Prénom:\", person[3], \"- Total net de richesse:\", person[6])\n"
   ]
  }
 ],
 "metadata": {
  "kernelspec": {
   "display_name": "Python 3",
   "language": "python",
   "name": "python3"
  },
  "language_info": {
   "codemirror_mode": {
    "name": "ipython",
    "version": 3
   },
   "file_extension": ".py",
   "mimetype": "text/x-python",
   "name": "python",
   "nbconvert_exporter": "python",
   "pygments_lexer": "ipython3",
   "version": "3.12.1"
  }
 },
 "nbformat": 4,
 "nbformat_minor": 2
}
